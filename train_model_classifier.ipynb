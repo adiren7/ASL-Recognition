{
 "cells": [
  {
   "cell_type": "code",
   "execution_count": 62,
   "metadata": {},
   "outputs": [
    {
     "data": {
      "text/plain": [
       "(66729, 42)"
      ]
     },
     "execution_count": 62,
     "metadata": {},
     "output_type": "execute_result"
    }
   ],
   "source": [
    "import pickle\n",
    "import pandas as pd\n",
    "\n",
    "data_dict = pickle.load(open('./data.pickle', 'rb'))\n",
    "\n",
    "data = data_dict['data']\n",
    "labels = data_dict['labels']\n",
    "\n",
    "df = pd.DataFrame(data)\n",
    "\n",
    "# Explode the array column to split each element into separate rows\n",
    "df = df.explode(0).reset_index(drop=True)\n",
    "\n",
    "# Create new columns from the exploded array\n",
    "df = pd.concat([df, df[0].apply(pd.Series)], axis=1).drop(columns=0)\n",
    "\n",
    "df.columns = [f'input{i+1}' for i in range(len(df.columns))]  \n",
    "df =df[['input1', 'input2', 'input3', 'input4', 'input5', 'input6', 'input7',\n",
    "       'input8', 'input9', 'input10', 'input11', 'input12', 'input13',\n",
    "       'input14', 'input15', 'input16', 'input17', 'input18', 'input19',\n",
    "       'input20', 'input21', 'input22', 'input23', 'input24', 'input25',\n",
    "       'input26', 'input27', 'input28', 'input29', 'input30', 'input31',\n",
    "       'input32', 'input33', 'input34', 'input35', 'input36', 'input37',\n",
    "       'input38', 'input39', 'input40', 'input41']]\n",
    "df[\"label\"]=labels\n",
    "df.shape"
   ]
  },
  {
   "cell_type": "code",
   "execution_count": 65,
   "metadata": {},
   "outputs": [
    {
     "data": {
      "text/plain": [
       "0.9899595384384834"
      ]
     },
     "execution_count": 65,
     "metadata": {},
     "output_type": "execute_result"
    }
   ],
   "source": [
    "from sklearn.model_selection import train_test_split\n",
    "\n",
    "X=df.drop(\"label\",axis=1)\n",
    "y=df.label\n",
    "\n",
    "X_train , X_test,y_train , y_test = train_test_split(X,y,test_size=0.2)\n",
    "\n",
    "model = RandomForestClassifier()\n",
    "model.fit(X_train, y_train)\n",
    "model.score(X_test,y_test)"
   ]
  },
  {
   "cell_type": "code",
   "execution_count": 68,
   "metadata": {},
   "outputs": [
    {
     "name": "stderr",
     "output_type": "stream",
     "text": [
      "c:\\Users\\HP\\AppData\\Local\\Programs\\Python\\Python39\\lib\\site-packages\\sklearn\\preprocessing\\_encoders.py:868: FutureWarning: `sparse` was renamed to `sparse_output` in version 1.2 and will be removed in 1.4. `sparse_output` is ignored unless you leave `sparse` to its default value.\n",
      "  warnings.warn(\n"
     ]
    },
    {
     "name": "stdout",
     "output_type": "stream",
     "text": [
      "Epoch 1/10\n",
      "1669/1669 [==============================] - 15s 7ms/step - loss: 0.7737 - accuracy: 0.8431\n",
      "Epoch 2/10\n",
      "1669/1669 [==============================] - 8s 5ms/step - loss: 0.2071 - accuracy: 0.9608\n",
      "Epoch 3/10\n",
      "1669/1669 [==============================] - 12s 7ms/step - loss: 0.1582 - accuracy: 0.9680\n",
      "Epoch 4/10\n",
      "1669/1669 [==============================] - 9s 5ms/step - loss: 0.1363 - accuracy: 0.9722\n",
      "Epoch 5/10\n",
      "1669/1669 [==============================] - 9s 5ms/step - loss: 0.1213 - accuracy: 0.9750\n",
      "Epoch 6/10\n",
      "1669/1669 [==============================] - 9s 5ms/step - loss: 0.1109 - accuracy: 0.9765\n",
      "Epoch 7/10\n",
      "1669/1669 [==============================] - 10s 6ms/step - loss: 0.1021 - accuracy: 0.9782\n",
      "Epoch 8/10\n",
      "1669/1669 [==============================] - 8s 5ms/step - loss: 0.0951 - accuracy: 0.9798\n",
      "Epoch 9/10\n",
      "1669/1669 [==============================] - 7s 4ms/step - loss: 0.0890 - accuracy: 0.9803\n",
      "Epoch 10/10\n",
      "1669/1669 [==============================] - 10s 6ms/step - loss: 0.0842 - accuracy: 0.9817\n",
      "418/418 [==============================] - 2s 3ms/step - loss: 0.0987 - accuracy: 0.9799\n",
      "Test Loss: 0.0987\n",
      "Test Accuracy: 0.9799\n"
     ]
    }
   ],
   "source": [
    "import pandas as pd\n",
    "import numpy as np\n",
    "from sklearn.model_selection import train_test_split\n",
    "from sklearn.preprocessing import OneHotEncoder, MinMaxScaler\n",
    "from tensorflow.keras.models import Sequential\n",
    "from tensorflow.keras.layers import LSTM, Dense\n",
    "\n",
    "\n",
    "X = df.iloc[:, :-1].values  # Input features (hand gesture values)\n",
    "y = df.iloc[:, -1].values   # Labels\n",
    "\n",
    "encoder = OneHotEncoder(sparse=False)\n",
    "y_encoded = encoder.fit_transform(y.reshape(-1, 1))\n",
    "\n",
    "\n",
    "X_train, X_test, y_train, y_test = train_test_split(X, y_encoded, test_size=0.2, random_state=42)\n",
    "\n",
    "scaler = MinMaxScaler()\n",
    "X_train_scaled = scaler.fit_transform(X_train)\n",
    "X_test_scaled = scaler.transform(X_test)\n",
    "\n",
    "X_train_reshaped = np.reshape(X_train_scaled, (X_train_scaled.shape[0], 1, X_train_scaled.shape[1]))\n",
    "X_test_reshaped = np.reshape(X_test_scaled, (X_test_scaled.shape[0], 1, X_test_scaled.shape[1]))\n",
    "\n",
    "\n",
    "modelMax = Sequential()\n",
    "modelMax.add(LSTM(128, input_shape=(1, X_train_scaled.shape[1])))\n",
    "modelMax.add(Dense(y_encoded.shape[1], activation='softmax'))\n",
    "modelMax.compile(loss='categorical_crossentropy', optimizer='adam', metrics=['accuracy'])\n",
    "modelMax.fit(X_train_reshaped, y_train, epochs=10, batch_size=32)\n",
    "\n",
    "loss, accuracy = modelMax.evaluate(X_test_reshaped, y_test)\n",
    "print(f'Test Loss: {loss:.4f}')\n",
    "print(f'Test Accuracy: {accuracy:.4f}')\n",
    "\n",
    "\n"
   ]
  },
  {
   "cell_type": "code",
   "execution_count": 69,
   "metadata": {},
   "outputs": [],
   "source": [
    "\"\"\"f = open('modelMax.p', 'wb')\n",
    "pickle.dump({'modelMax': modelMax}, f)\n",
    "f.close()\"\"\""
   ]
  },
  {
   "cell_type": "code",
   "execution_count": null,
   "metadata": {},
   "outputs": [],
   "source": []
  }
 ],
 "metadata": {
  "kernelspec": {
   "display_name": "Python 3",
   "language": "python",
   "name": "python3"
  },
  "language_info": {
   "codemirror_mode": {
    "name": "ipython",
    "version": 3
   },
   "file_extension": ".py",
   "mimetype": "text/x-python",
   "name": "python",
   "nbconvert_exporter": "python",
   "pygments_lexer": "ipython3",
   "version": "3.9.13"
  },
  "orig_nbformat": 4
 },
 "nbformat": 4,
 "nbformat_minor": 2
}
